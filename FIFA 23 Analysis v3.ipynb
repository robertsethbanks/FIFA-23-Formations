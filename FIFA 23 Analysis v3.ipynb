{
 "cells": [
  {
   "cell_type": "markdown",
   "id": "c11fa7f4",
   "metadata": {},
   "source": [
    "### PSG active team issue (figure out why position counts are off)\n",
    "### Add error checks"
   ]
  },
  {
   "cell_type": "markdown",
   "id": "2725f2a8",
   "metadata": {},
   "source": [
    "## Resources:\n",
    "#### Removing spaces from column names:\n",
    "https://www.geeksforgeeks.org/remove-spaces-from-column-names-in-pandas/\n",
    "\n",
    "#### Select subset of dataframe:\n",
    "https://pandas.pydata.org/docs/getting_started/intro_tutorials/03_subset_data.html\n",
    "\n",
    "#### Subsetting dataframe based on conditions:\n",
    "https://www.geeksforgeeks.org/selecting-rows-in-pandas-dataframe-based-on-conditions/\n",
    "\n",
    "#### Return certain columns in a dataframe:\n",
    "https://sparkbyexamples.com/pandas/pandas-select-columns-by-name-or-index/\n",
    "\n",
    "#### Combine multiple dataframes into one:\n",
    "https://www.geeksforgeeks.org/how-to-stack-multiple-pandas-dataframes/\n",
    "\n",
    "#### MPL Soccer documentation:\n",
    "https://mplsoccer.readthedocs.io/en/latest/index.html\n",
    "\n",
    "#### Selecting subset of dataframe:\n",
    "https://pandas.pydata.org/docs/getting_started/intro_tutorials/03_subset_data.html#:~:text=To%20select%20a%20single%20column,of%20the%20column%20of%20interest.\n",
    "\n",
    "#### Count occurences of True and False in dataframe:\n",
    "https://stackoverflow.com/questions/53550988/count-occurrences-of-false-or-true-in-a-column-in-pandas\n",
    "\n",
    "#### Plot dataframe:\n",
    "https://datatofish.com/plot-dataframe-pandas/\n",
    "\n",
    "#### Set background color for plots:\n",
    "https://www.geeksforgeeks.org/how-to-set-plot-background-color-in-matplotlib/\n",
    "\n",
    "#### Changing Jupyter theme:\n",
    "https://stackoverflow.com/questions/46510192/change-the-theme-in-jupyter-notebook\n",
    "\n",
    "#### Jupyter theme options:\n",
    "https://towardsdatascience.com/customize-your-jupyter-notebook-theme-in-2-lines-of-code-fc726cea1513\n",
    "\n",
    "#### Add data labels to Python scatter:\n",
    "https://towardsdatascience.com/how-to-add-text-labels-to-scatterplot-in-matplotlib-seaborn-ec5df6afed7a"
   ]
  },
  {
   "cell_type": "markdown",
   "id": "28f08c40",
   "metadata": {},
   "source": [
    "#### Import packages"
   ]
  },
  {
   "cell_type": "code",
   "execution_count": null,
   "id": "dafb89c6",
   "metadata": {},
   "outputs": [],
   "source": [
    "import pandas as pd\n",
    "import numpy as np\n",
    "import matplotlib.pyplot as plt\n",
    "import mplsoccer"
   ]
  },
  {
   "cell_type": "markdown",
   "id": "ecd889a4",
   "metadata": {},
   "source": [
    "#### Read in FIFA 23 data"
   ]
  },
  {
   "cell_type": "code",
   "execution_count": null,
   "id": "06605538",
   "metadata": {},
   "outputs": [],
   "source": [
    "data = pd.read_csv(r'/Users/robertbanks/Desktop/Projects/SoccerAnalysis/FIFA_23_Data.csv')"
   ]
  },
  {
   "cell_type": "markdown",
   "id": "99a610b6",
   "metadata": {},
   "source": [
    "#### Replacing spaces in column names with \"_\""
   ]
  },
  {
   "cell_type": "code",
   "execution_count": null,
   "id": "48b24372",
   "metadata": {},
   "outputs": [],
   "source": [
    "data.columns = data.columns.str.replace(' ','_')"
   ]
  },
  {
   "cell_type": "markdown",
   "id": "cf2e5faa",
   "metadata": {},
   "source": [
    "#### Creating conditional boolean columns for each position group in main dataset"
   ]
  },
  {
   "cell_type": "code",
   "execution_count": null,
   "id": "831c2690",
   "metadata": {},
   "outputs": [],
   "source": [
    "data['Goalkeeper'] = np.where(data['Club_Position']=='GK',True,False)\n",
    "\n",
    "data['Center_Back'] = np.where(data['Club_Position']=='CB',True,False)\n",
    "\n",
    "data['Left_Back'] = np.where(((data['Club_Position']=='LWB')|(data['Club_Position']=='LB')),True,False)\n",
    "\n",
    "data['Right_Back'] = np.where(((data['Club_Position']=='RWB')|(data['Club_Position']=='RB')),True,False)\n",
    "\n",
    "data['Center_Midfielder'] = np.where(((data['Club_Position']=='CM')|(data['Club_Position']=='CDM')|(data['Club_Position']=='CAM')),True,False)\n",
    "\n",
    "data['Winger'] = np.where(((data['Club_Position']=='RW')|(data['Club_Position']=='LW')|(data['Club_Position']=='RM')|(data['Club_Position']=='LM')),True,False)\n",
    "\n",
    "data['Striker'] = np.where(((data['Club_Position']=='ST')|(data['Club_Position']=='CF')),True,False)"
   ]
  },
  {
   "cell_type": "markdown",
   "id": "c926b68b",
   "metadata": {},
   "source": [
    "## For a given club, want to subset the data for that club and return certain columns\n"
   ]
  },
  {
   "cell_type": "code",
   "execution_count": null,
   "id": "9bc99a05",
   "metadata": {},
   "outputs": [],
   "source": [
    "def club_subset(club):\n",
    "\n",
    "    df = data.loc[data['Club_Name'] == club][['Known_As','Club_Jersey_Number','Overall','Goalkeeper','Center_Back','Left_Back','Right_Back','Center_Midfielder','Winger','Striker']]\n",
    "    \n",
    "    return df\n",
    "\n"
   ]
  },
  {
   "cell_type": "markdown",
   "id": "8a57ab4a",
   "metadata": {},
   "source": [
    "# Set active team below!\n",
    "\n",
    "#### Setting active team using club_subset function. This active team dataframe is called in the functions below."
   ]
  },
  {
   "cell_type": "code",
   "execution_count": null,
   "id": "fc1aae32",
   "metadata": {},
   "outputs": [],
   "source": [
    "df_activeteam = club_subset('FC Barcelona')"
   ]
  },
  {
   "cell_type": "markdown",
   "id": "42e4a702",
   "metadata": {},
   "source": [
    "## Return x highest overall players for each position group"
   ]
  },
  {
   "cell_type": "code",
   "execution_count": null,
   "id": "8a8eb26a",
   "metadata": {},
   "outputs": [],
   "source": [
    "def goalkeepers(count):\n",
    "    \n",
    "    gk = df_activeteam[df_activeteam['Goalkeeper']].iloc[:count] \n",
    "\n",
    "    return gk\n",
    "\n",
    "def centerbacks(count):\n",
    "    \n",
    "    cb = df_activeteam[df_activeteam['Center_Back']].iloc[:count]\n",
    "    \n",
    "    return cb\n",
    "   \n",
    "def leftbacks(count):\n",
    "    \n",
    "    lb = df_activeteam[df_activeteam['Left_Back']].iloc[:count]\n",
    "    \n",
    "    return lb\n",
    "\n",
    "def rightbacks(count):\n",
    "    \n",
    "    rb = df_activeteam[df_activeteam['Right_Back']].iloc[:count]\n",
    "    \n",
    "    return rb\n",
    "\n",
    "def centermidfielders(count):\n",
    "    \n",
    "    cm = df_activeteam[df_activeteam['Center_Midfielder']].iloc[:count]\n",
    "    \n",
    "    return cm\n",
    "\n",
    "def wingers(count):\n",
    "    \n",
    "    wing = df_activeteam[df_activeteam['Winger']].iloc[:count]\n",
    "    \n",
    "    return wing\n",
    "\n",
    "def strikers(count):\n",
    "    \n",
    "    st = df_activeteam[df_activeteam['Striker']].iloc[:count]\n",
    "    \n",
    "    return st\n"
   ]
  },
  {
   "cell_type": "markdown",
   "id": "5fea8ba6",
   "metadata": {},
   "source": [
    "#### Combining the pulls into one dataframe"
   ]
  },
  {
   "cell_type": "code",
   "execution_count": null,
   "id": "861d9b36",
   "metadata": {},
   "outputs": [],
   "source": [
    "a = goalkeepers(1)\n",
    "b = centerbacks(2)\n",
    "c = leftbacks(1)\n",
    "d = rightbacks(1)\n",
    "e = centermidfielders(3)\n",
    "f = wingers(2)\n",
    "g = strikers(1)\n",
    "\n",
    "formation = pd.concat([a, b, c, d, e, f, g], ignore_index = True, axis = 0)\n",
    "formation[['Known_As','Overall','Goalkeeper', 'Center_Back', 'Left_Back','Right_Back','Center_Midfielder','Winger','Striker']]\n",
    "\n"
   ]
  },
  {
   "cell_type": "markdown",
   "id": "7d051253",
   "metadata": {},
   "source": [
    "#### Count the players in each position group"
   ]
  },
  {
   "cell_type": "code",
   "execution_count": null,
   "id": "cd070526",
   "metadata": {},
   "outputs": [],
   "source": [
    "a_count = df_activeteam.Goalkeeper.sum()\n",
    "b_count = df_activeteam.Center_Back.sum()\n",
    "c_count = df_activeteam.Left_Back.sum()\n",
    "d_count = df_activeteam.Right_Back.sum()\n",
    "e_count = df_activeteam.Center_Midfielder.sum()\n",
    "f_count = df_activeteam.Winger.sum()\n",
    "g_count = df_activeteam.Striker.sum()\n",
    "\n",
    "print(\"Position Counts for Active Team:\")\n",
    "print(\"Goalkeepers:         \", a_count)\n",
    "print(\"Center Backs:        \", b_count)\n",
    "print(\"Left Backs:          \" , c_count)\n",
    "print(\"Right Backs:         \", d_count)\n",
    "print(\"Center Midfielders:  \", e_count)\n",
    "print(\"Wingers:             \", f_count)\n",
    "print(\"Strikers:            \", g_count)\n"
   ]
  },
  {
   "cell_type": "markdown",
   "id": "284697cf",
   "metadata": {},
   "source": [
    "\n",
    "### Need to fix this\n",
    "#### Write an error message if total_count does not equal 11"
   ]
  },
  {
   "cell_type": "code",
   "execution_count": null,
   "id": "59934325",
   "metadata": {},
   "outputs": [],
   "source": [
    "#total_count = a_count + b_count + c_count + d_count + e_count + f_count + g_count\n",
    "\n",
    "#if total_count < 11:\n",
    "#    print(\"The active team does not fulfill the 433 requirements.\")\n",
    "#    print(\"Enter a new active team. Will fix at some point :)\")\n",
    "#else:\n",
    "#    print(\"The active team has the required\",total_count,\"players.\")\n"
   ]
  },
  {
   "cell_type": "markdown",
   "id": "d80f9fcc",
   "metadata": {},
   "source": [
    "#### Assign x and y coordinates to each index in the table"
   ]
  },
  {
   "cell_type": "code",
   "execution_count": null,
   "id": "16be7611",
   "metadata": {},
   "outputs": [],
   "source": [
    "formation['xcoordinate'] = [10, 30, 30, 30, 30, 60, 60, 60, 90, 90, 90]\n",
    "formation['ycoordinate'] = [40, 50, 30, 70, 10, 20, 40, 60, 20, 60, 40]\n",
    "formation[['Known_As','xcoordinate','ycoordinate']]"
   ]
  },
  {
   "cell_type": "markdown",
   "id": "37a6e060",
   "metadata": {},
   "source": [
    "#### Names and numbers for scatter data labels"
   ]
  },
  {
   "cell_type": "code",
   "execution_count": null,
   "id": "bbbd05d6",
   "metadata": {},
   "outputs": [],
   "source": [
    "gk_name = formation.iloc[0][0:2]\n",
    "cb1_name = formation.iloc[1][0:2]\n",
    "cb2_name = formation.iloc[2][0:2]\n",
    "lb_name = formation.iloc[3][0:2]\n",
    "rb_name = formation.iloc[4][0:2]\n",
    "cm1_name = formation.iloc[5][0:2]\n",
    "cm2_name = formation.iloc[6][0:2]\n",
    "cm3_name = formation.iloc[7][0:2]\n",
    "wing1_name = formation.iloc[8][0:2]\n",
    "wing2_name = formation.iloc[9][0:2]\n",
    "st_name = formation.iloc[10][0:2]\n",
    "\n",
    "print(\"Names and Numbers for Active Team:\")\n",
    "print(\"Goalkeeper:         \", gk_name[0], gk_name[1])\n",
    "print(\"Center Backs:       \", cb1_name[0], cb1_name[1])\n",
    "print(\"                    \", cb2_name[0], cb2_name[1])\n",
    "print(\"Left Back:          \" , lb_name[0], lb_name[1])\n",
    "print(\"Right Back:         \", rb_name[0], rb_name[1])\n",
    "print(\"Center Midfielders: \", cm1_name[0], cm1_name[1])\n",
    "print(\"                    \", cm2_name[0], cm2_name[1])\n",
    "print(\"                    \", cm3_name[0], cm3_name[1])\n",
    "print(\"Wingers:            \", wing1_name[0], wing1_name[1])\n",
    "print(\"                    \", wing2_name[0], wing2_name[1])\n",
    "print(\"Striker:            \", st_name[0], st_name[1])\n"
   ]
  },
  {
   "cell_type": "markdown",
   "id": "ce2c0645",
   "metadata": {},
   "source": [
    "## Plotting a soccer field"
   ]
  },
  {
   "cell_type": "code",
   "execution_count": null,
   "id": "c1fe4fee",
   "metadata": {},
   "outputs": [],
   "source": [
    "from mplsoccer.pitch import Pitch\n",
    "pitch = Pitch(pitch_color = 'grass',line_color = 'white', stripe = False, axis = True, label = False, tick = False)\n",
    "fig, ax = pitch.draw()\n",
    "plt.scatter(formation['xcoordinate'], formation['ycoordinate'], color='blue', edgecolor='black', s=2500)\n",
    "\n",
    "# Goalkeeper data labels\n",
    "plt.text(x=5, y=40, s=gk_name[0], bbox = dict(facecolor='yellow'))\n",
    "plt.text(x=5, y=45, s=gk_name[1], bbox = dict(facecolor='white'))\n",
    "\n",
    "# Defender data labels\n",
    "plt.text(x=25 , y=50, s=cb1_name[0], bbox = dict(facecolor='yellow'))\n",
    "plt.text(x=25 , y=55, s=cb1_name[1], bbox = dict(facecolor='white'))\n",
    "\n",
    "plt.text(x=25 , y=30, s=cb2_name[0], bbox = dict(facecolor='yellow'))\n",
    "plt.text(x=25 , y=35, s=cb2_name[1], bbox = dict(facecolor='white'))\n",
    "\n",
    "plt.text(x=25, y=10, s=lb_name[0], bbox = dict(facecolor='yellow'))\n",
    "plt.text(x=25 , y=15, s=lb_name[1], bbox = dict(facecolor='white'))\n",
    "\n",
    "plt.text(x=25, y=70, s=rb_name[0], bbox = dict(facecolor='yellow'))\n",
    "plt.text(x=25 , y=75, s=rb_name[1], bbox = dict(facecolor='white'))\n",
    "\n",
    "# Midfielder data labels\n",
    "plt.text(x=55, y=20, s=cm1_name[0], bbox = dict(facecolor='yellow'))\n",
    "plt.text(x=55 , y=25, s=cm1_name[1], bbox = dict(facecolor='white'))\n",
    "\n",
    "plt.text(x=55, y=40, s=cm2_name[0], bbox = dict(facecolor='yellow'))\n",
    "plt.text(x=55 , y=45, s=cm2_name[1], bbox = dict(facecolor='white'))\n",
    "\n",
    "plt.text(x=55, y=60, s=cm3_name[0], bbox = dict(facecolor='yellow'))\n",
    "plt.text(x=55 , y=65, s=cm3_name[1], bbox = dict(facecolor='white'))\n",
    "\n",
    "# Forward data labels\n",
    "\n",
    "plt.text(x=85, y=20, s=wing1_name[0], bbox = dict(facecolor='yellow'))\n",
    "plt.text(x=85 , y=25, s=wing1_name[1], bbox = dict(facecolor='white'))\n",
    "\n",
    "plt.text(x=85, y=60, s=wing2_name[0], bbox = dict(facecolor='yellow'))\n",
    "plt.text(x=85 , y=65, s=wing2_name[1], bbox = dict(facecolor='white'))\n",
    "\n",
    "plt.text(x=85, y=40, s=st_name[0], bbox = dict(facecolor='yellow'))\n",
    "plt.text(x=85 , y=45, s=st_name[1], bbox = dict(facecolor='white'))"
   ]
  },
  {
   "cell_type": "code",
   "execution_count": null,
   "id": "77296373",
   "metadata": {},
   "outputs": [],
   "source": []
  }
 ],
 "metadata": {
  "kernelspec": {
   "display_name": "Python 3 (ipykernel)",
   "language": "python",
   "name": "python3"
  },
  "language_info": {
   "codemirror_mode": {
    "name": "ipython",
    "version": 3
   },
   "file_extension": ".py",
   "mimetype": "text/x-python",
   "name": "python",
   "nbconvert_exporter": "python",
   "pygments_lexer": "ipython3",
   "version": "3.9.15"
  }
 },
 "nbformat": 4,
 "nbformat_minor": 5
}
